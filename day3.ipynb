{
 "cells": [
  {
   "cell_type": "code",
   "execution_count": 4,
   "id": "f91a23a1",
   "metadata": {},
   "outputs": [
    {
     "name": "stdout",
     "output_type": "stream",
     "text": [
      "-5\n"
     ]
    }
   ],
   "source": [
    "def fun(n):\n",
    "    if n<= 0:\n",
    "        return n\n",
    "    return fun(n-1) + fun(n-2)\n",
    "\n",
    "print(fun(5))"
   ]
  },
  {
   "cell_type": "markdown",
   "id": "77f9287e",
   "metadata": {},
   "source": [
    "- Second"
   ]
  },
  {
   "cell_type": "code",
   "execution_count": 5,
   "id": "f9b782ce",
   "metadata": {},
   "outputs": [
    {
     "name": "stdout",
     "output_type": "stream",
     "text": [
      "21\n"
     ]
    }
   ],
   "source": [
    "def fun(n):\n",
    "    if n<= 0:\n",
    "        return n\n",
    "    return n + fun(n-1) + fun(n-2)\n",
    "\n",
    "print(fun(5))"
   ]
  },
  {
   "cell_type": "markdown",
   "id": "5f9696cc",
   "metadata": {},
   "source": [
    "- Third"
   ]
  },
  {
   "cell_type": "code",
   "execution_count": 6,
   "id": "6767d3b3",
   "metadata": {},
   "outputs": [
    {
     "name": "stdout",
     "output_type": "stream",
     "text": [
      "1\n",
      "2\n",
      "3\n",
      "1\n",
      "4\n",
      "1\n",
      "2\n",
      "5\n",
      "1\n",
      "2\n",
      "3\n",
      "1\n",
      "None\n"
     ]
    }
   ],
   "source": [
    "def fun(n):\n",
    "    if n<= 0:\n",
    "        return n\n",
    "    fun(n-1)\n",
    "    print(n)\n",
    "    fun(n-2)\n",
    "\n",
    "print(fun(5))"
   ]
  },
  {
   "cell_type": "markdown",
   "id": "b0304364",
   "metadata": {},
   "source": [
    "### Happy number"
   ]
  },
  {
   "cell_type": "code",
   "execution_count": 8,
   "id": "7811fe38",
   "metadata": {},
   "outputs": [
    {
     "data": {
      "text/plain": [
       "145"
      ]
     },
     "execution_count": 8,
     "metadata": {},
     "output_type": "execute_result"
    }
   ],
   "source": [
    "def isSum(num):\n",
    "    sum = 0 \n",
    "    for i in range(num):\n",
    "        rem = int(num%10)\n",
    "        sum = sum + rem*rem\n",
    "        num = num//10\n",
    "    return sum\n",
    "\n",
    "def isHappyNumber(num):\n",
    "    if(num == 1 or num == 7):\n",
    "        return True\n",
    "    \n",
    "\n"
   ]
  },
  {
   "cell_type": "code",
   "execution_count": 14,
   "id": "1fc43e55",
   "metadata": {},
   "outputs": [
    {
     "name": "stdout",
     "output_type": "stream",
     "text": [
      "False\n"
     ]
    }
   ],
   "source": [
    "def isHappy(num):\n",
    "    if(num <= 9):\n",
    "        return num ==1 or num == 0\n",
    "    total = 0\n",
    "    while True:\n",
    "        rem = num%10\n",
    "        num = num//10\n",
    "        total = total + rem*rem\n",
    "    return isHappy(total)\n",
    "\n",
    "num = int(input(\"Enter the number: \"))\n",
    "print(isHappy(num))\n",
    "    "
   ]
  }
 ],
 "metadata": {
  "kernelspec": {
   "display_name": "Python 3.10.4 64-bit",
   "language": "python",
   "name": "python3"
  },
  "language_info": {
   "codemirror_mode": {
    "name": "ipython",
    "version": 3
   },
   "file_extension": ".py",
   "mimetype": "text/x-python",
   "name": "python",
   "nbconvert_exporter": "python",
   "pygments_lexer": "ipython3",
   "version": "3.10.4"
  },
  "vscode": {
   "interpreter": {
    "hash": "864176c83e95cd2754ab8d2f61db14100bfb00266ada6c47987aa215c81b9e75"
   }
  }
 },
 "nbformat": 4,
 "nbformat_minor": 5
}
