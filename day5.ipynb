{
 "cells": [
  {
   "cell_type": "markdown",
   "metadata": {},
   "source": [
    "# GCD"
   ]
  },
  {
   "cell_type": "code",
   "execution_count": 2,
   "metadata": {},
   "outputs": [
    {
     "name": "stdout",
     "output_type": "stream",
     "text": [
      "2\n"
     ]
    }
   ],
   "source": [
    "def gcd(a,b):\n",
    "    if a<=0:\n",
    "        return b\n",
    "    elif b<=0:\n",
    "        return a\n",
    "    if(a>b):\n",
    "        return gcd(a%b, b)\n",
    "    elif(b>a):\n",
    "        return gcd(b%a, a)\n",
    "\n",
    "num1 ,num2 = map(int, input().split())\n",
    "\n",
    "print(gcd(num1,num2))"
   ]
  },
  {
   "cell_type": "markdown",
   "metadata": {},
   "source": [
    "# LCM"
   ]
  },
  {
   "cell_type": "code",
   "execution_count": 4,
   "metadata": {},
   "outputs": [
    {
     "name": "stdout",
     "output_type": "stream",
     "text": [
      "1\n"
     ]
    }
   ],
   "source": [
    "def gcd(a,b):\n",
    "    if a<=0:\n",
    "        return b\n",
    "    elif b<=0:\n",
    "        return a\n",
    "    if(a>b):\n",
    "        return gcd(a%b, b)\n",
    "    elif(b>a):\n",
    "        return gcd(b%a, a)\n",
    "\n",
    "def lcmOfNumbers(a,b):\n",
    "    return a*b//gcd(a,b)\n",
    "\n",
    "num1 ,num2 = map(int, input().split())\n",
    "print(gcd(num1,num2))"
   ]
  },
  {
   "cell_type": "markdown",
   "metadata": {},
   "source": [
    "# ArrayLCM "
   ]
  },
  {
   "cell_type": "code",
   "execution_count": null,
   "metadata": {},
   "outputs": [],
   "source": [
    "def gcd(a,b):\n",
    "    if a<=0:\n",
    "        return b\n",
    "    elif b<=0:\n",
    "        return a\n",
    "    if(a>b):\n",
    "        return gcd(a%b, b)\n",
    "    elif(b>a):\n",
    "        return gcd(b%a, a)\n",
    "\n",
    "def lcmOfNumbers(a,b):\n",
    "    return a*b//gcd(a,b)\n",
    "\n",
    "def lcmOfArrays(arr):\n",
    "    totalLcm =arr[0]\n",
    "    for i in range(1,len(arr)):\n",
    "        totalLcm = lcmOfNumbers(totalLcm,arr[i])\n",
    "    return totalLcm\n",
    "\n",
    "arr = [34,36,35,55,5]\n",
    "\n",
    "print(lcmOfArrays(arr))"
   ]
  }
 ],
 "metadata": {
  "kernelspec": {
   "display_name": "Python 3.10.4 64-bit",
   "language": "python",
   "name": "python3"
  },
  "language_info": {
   "codemirror_mode": {
    "name": "ipython",
    "version": 3
   },
   "file_extension": ".py",
   "mimetype": "text/x-python",
   "name": "python",
   "nbconvert_exporter": "python",
   "pygments_lexer": "ipython3",
   "version": "3.10.4"
  },
  "orig_nbformat": 4,
  "vscode": {
   "interpreter": {
    "hash": "864176c83e95cd2754ab8d2f61db14100bfb00266ada6c47987aa215c81b9e75"
   }
  }
 },
 "nbformat": 4,
 "nbformat_minor": 2
}
