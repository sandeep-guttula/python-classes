{
 "cells": [
  {
   "cell_type": "markdown",
   "id": "d2396ba1",
   "metadata": {},
   "source": [
    "### Numbers"
   ]
  },
  {
   "cell_type": "markdown",
   "id": "32d7483d",
   "metadata": {},
   "source": [
    "- Perfect Number"
   ]
  },
  {
   "cell_type": "code",
   "execution_count": null,
   "id": "7ecbe2f2",
   "metadata": {},
   "outputs": [],
   "source": [
    "def perfectNumber():\n",
    "    num = int(input(\"Enter the number: \"))\n",
    "    result = 0\n",
    "    for i in range(2,num//2):\n",
    "        if(num % 2 == 0):\n",
    "            result = result + i\n",
    "    if num==result :\n",
    "        return f\"{num} is a Perfect number\"\n",
    "    else :\n",
    "        return f\"{num} is not a perfect number\"\n",
    "\n",
    "num = perfectNumber()\n",
    "print(num)\n"
   ]
  },
  {
   "cell_type": "markdown",
   "id": "f7a4a502",
   "metadata": {},
   "source": [
    " - Another Method"
   ]
  },
  {
   "cell_type": "code",
   "execution_count": null,
   "id": "a4e83641",
   "metadata": {},
   "outputs": [],
   "source": [
    "from math import sqrt\n",
    "def perfectNumber(num):\n",
    "    result = 1\n",
    "    i=1\n",
    "    sq = int(sqrt(num))\n",
    "    for i in range(2,sq+1):\n",
    "        if num%1 == 0:\n",
    "            result = result + i \n",
    "            result = result + num//i\n",
    "    return result==num \n",
    "\n",
    "testCasesCount = int(input(\"Enter the test cases count\"))\n",
    "for i in range(testCasesCount):\n",
    "    num =  int(input(\"Enter the number: \"))\n",
    "    print(perfectNumber(num))"
   ]
  },
  {
   "cell_type": "markdown",
   "id": "ab601560",
   "metadata": {},
   "source": [
    "### SpyNumbers"
   ]
  },
  {
   "cell_type": "code",
   "execution_count": 1,
   "id": "dcce3eac",
   "metadata": {},
   "outputs": [
    {
     "name": "stdout",
     "output_type": "stream",
     "text": [
      "Enter the number1234\n",
      "1234 is spy number: False\n"
     ]
    }
   ],
   "source": [
    "def spyNumber(num):\n",
    "    resultSum = 0\n",
    "    resultMul = 1\n",
    "    while num:\n",
    "        resultSum += num%10\n",
    "        resultMul *= num%10\n",
    "        num = num//10\n",
    "    return resultSum == resultMul\n",
    "\n",
    "num = int(input(\"Enter the number\"))\n",
    "print(f'{num} is spy number: {spyNumber(num)}')"
   ]
  },
  {
   "cell_type": "markdown",
   "id": "9975d0b6",
   "metadata": {},
   "source": [
    "### Semiprime"
   ]
  },
  {
   "cell_type": "code",
   "execution_count": 7,
   "id": "940d5c98",
   "metadata": {},
   "outputs": [
    {
     "name": "stdout",
     "output_type": "stream",
     "text": [
      "Enter the number: 35\n",
      "True\n"
     ]
    }
   ],
   "source": [
    "import math as M\n",
    "\n",
    "def isprime(num):\n",
    "    sq=int(M.sqrt(num))\n",
    "    for i in range(2,sq+1):\n",
    "        if num%i==0:\n",
    "            return False\n",
    "    return True\n",
    "\n",
    "def issemiprime(num):\n",
    "    sq=int(M.sqrt(num))\n",
    "    for i in range(2,sq+1):\n",
    "        if num%i==0 and isprime(i) and isprime(num//i):\n",
    "            return True\n",
    "    return False        \n",
    "                \n",
    "n=int(input(\"Enter the number: \"))\n",
    "res=issemiprime(n)\n",
    "print(res)\n",
    "        \n",
    "    \n",
    "    \n"
   ]
  },
  {
   "cell_type": "code",
   "execution_count": 6,
   "id": "26bbaee6",
   "metadata": {},
   "outputs": [
    {
     "data": {
      "text/plain": [
       "range(0, 10)"
      ]
     },
     "execution_count": 6,
     "metadata": {},
     "output_type": "execute_result"
    }
   ],
   "source": [
    "range(10)"
   ]
  }
 ],
 "metadata": {
  "kernelspec": {
   "display_name": "Python 3 (ipykernel)",
   "language": "python",
   "name": "python3"
  },
  "language_info": {
   "codemirror_mode": {
    "name": "ipython",
    "version": 3
   },
   "file_extension": ".py",
   "mimetype": "text/x-python",
   "name": "python",
   "nbconvert_exporter": "python",
   "pygments_lexer": "ipython3",
   "version": "3.9.12"
  }
 },
 "nbformat": 4,
 "nbformat_minor": 5
}
