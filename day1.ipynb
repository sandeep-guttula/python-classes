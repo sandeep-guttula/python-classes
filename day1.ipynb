{
 "cells": [
  {
   "cell_type": "markdown",
   "id": "6945d2c7",
   "metadata": {},
   "source": [
    "### Day 1"
   ]
  },
  {
   "cell_type": "code",
   "execution_count": 1,
   "id": "b644e4aa",
   "metadata": {},
   "outputs": [
    {
     "name": "stdout",
     "output_type": "stream",
     "text": [
      "Enter the Num 1: 10\n",
      "Enter the Num 2: 20\n",
      "30\n"
     ]
    }
   ],
   "source": [
    "\n",
    "def add(num1, num2=0) :\n",
    "    return num1+ num2 \n",
    "\n",
    "num1 = int(input(\"Enter the Num 1: \"))\n",
    "num2 = int(input(\"Enter the Num 2: \"))\n",
    "\n",
    "result =add(num1,num2)\n",
    "print(result)\n"
   ]
  },
  {
   "cell_type": "markdown",
   "id": "0a1e761a",
   "metadata": {},
   "source": [
    "### Package import diffrent types\n",
    "\n",
    "- import math\n",
    "- import math as M\n",
    "- from math import sqrt()\n"
   ]
  },
  {
   "cell_type": "code",
   "execution_count": 2,
   "id": "cd3e4ac9",
   "metadata": {},
   "outputs": [
    {
     "name": "stdout",
     "output_type": "stream",
     "text": [
      "10.0\n"
     ]
    }
   ],
   "source": [
    "import math\n",
    "print(math.sqrt(100))"
   ]
  },
  {
   "cell_type": "code",
   "execution_count": 3,
   "id": "cd598160",
   "metadata": {},
   "outputs": [
    {
     "name": "stdout",
     "output_type": "stream",
     "text": [
      "10.0\n"
     ]
    }
   ],
   "source": [
    "import math as M\n",
    "print(M.sqrt(100))"
   ]
  },
  {
   "cell_type": "code",
   "execution_count": 4,
   "id": "340992f9",
   "metadata": {},
   "outputs": [
    {
     "name": "stdout",
     "output_type": "stream",
     "text": [
      "10.0\n"
     ]
    }
   ],
   "source": [
    "from math import sqrt\n",
    "print(sqrt(100))"
   ]
  },
  {
   "cell_type": "code",
   "execution_count": 5,
   "id": "1cd9c941",
   "metadata": {},
   "outputs": [
    {
     "name": "stdout",
     "output_type": "stream",
     "text": [
      "Collecting Pandoc\n",
      "  Downloading pandoc-2.2.tar.gz (29 kB)\n",
      "Collecting plumbum\n",
      "  Downloading plumbum-1.7.2-py2.py3-none-any.whl (117 kB)\n",
      "Collecting ply\n",
      "  Downloading ply-3.11-py2.py3-none-any.whl (49 kB)\n",
      "Requirement already satisfied: pywin32 in c:\\users\\sandeep\\anaconda3\\lib\\site-packages (from plumbum->Pandoc) (302)\n",
      "Building wheels for collected packages: Pandoc\n",
      "  Building wheel for Pandoc (setup.py): started\n",
      "  Building wheel for Pandoc (setup.py): finished with status 'done'\n",
      "  Created wheel for Pandoc: filename=pandoc-2.2-py3-none-any.whl size=29557 sha256=da71d6cf329a1f6564a52542b51b93e76ab1b8a43e48fe9b4f2ff6cb3fd935ee\n",
      "  Stored in directory: c:\\users\\sandeep\\appdata\\local\\pip\\cache\\wheels\\2d\\da\\b1\\54ff0401ef9b07b60c7fc9cffe616f243cf27dc3d04bd5d5ef\n",
      "Successfully built Pandoc\n",
      "Installing collected packages: ply, plumbum, Pandoc\n",
      "Successfully installed Pandoc-2.2 plumbum-1.7.2 ply-3.11\n",
      "Note: you may need to restart the kernel to use updated packages.\n"
     ]
    }
   ],
   "source": [
    "pip install pandoc"
   ]
  },
  {
   "cell_type": "code",
   "execution_count": null,
   "id": "72c40b28",
   "metadata": {},
   "outputs": [],
   "source": []
  }
 ],
 "metadata": {
  "kernelspec": {
   "display_name": "Python 3 (ipykernel)",
   "language": "python",
   "name": "python3"
  },
  "language_info": {
   "codemirror_mode": {
    "name": "ipython",
    "version": 3
   },
   "file_extension": ".py",
   "mimetype": "text/x-python",
   "name": "python",
   "nbconvert_exporter": "python",
   "pygments_lexer": "ipython3",
   "version": "3.9.12"
  }
 },
 "nbformat": 4,
 "nbformat_minor": 5
}
