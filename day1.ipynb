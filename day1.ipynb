{
 "cells": [
  {
   "cell_type": "markdown",
   "id": "6945d2c7",
   "metadata": {},
   "source": [
    "### Day 1"
   ]
  },
  {
   "cell_type": "code",
   "execution_count": 1,
   "id": "b644e4aa",
   "metadata": {},
   "outputs": [
    {
     "name": "stdout",
     "output_type": "stream",
     "text": [
      "Enter the Num 1: 10\n",
      "Enter the Num 2: 20\n",
      "30\n"
     ]
    }
   ],
   "source": [
    "\n",
    "def add(num1, num2=0) :\n",
    "    return num1+ num2 \n",
    "\n",
    "num1 = int(input(\"Enter the Num 1: \"))\n",
    "num2 = int(input(\"Enter the Num 2: \"))\n",
    "\n",
    "result =add(num1,num2)\n",
    "print(result)\n"
   ]
  },
  {
   "cell_type": "markdown",
   "id": "0a1e761a",
   "metadata": {},
   "source": [
    "### Package import diffrent types\n",
    "\n",
    "- import math\n",
    "- import math as M\n",
    "- from math import sqrt()\n"
   ]
  },
  {
   "cell_type": "code",
   "execution_count": 2,
   "id": "cd3e4ac9",
   "metadata": {},
   "outputs": [
    {
     "name": "stdout",
     "output_type": "stream",
     "text": [
      "10.0\n"
     ]
    }
   ],
   "source": [
    "import math\n",
    "print(math.sqrt(100))"
   ]
  },
  {
   "cell_type": "code",
   "execution_count": 3,
   "id": "cd598160",
   "metadata": {},
   "outputs": [
    {
     "name": "stdout",
     "output_type": "stream",
     "text": [
      "10.0\n"
     ]
    }
   ],
   "source": [
    "import math as M\n",
    "print(M.sqrt(100))"
   ]
  },
  {
   "cell_type": "code",
   "execution_count": 4,
   "id": "340992f9",
   "metadata": {},
   "outputs": [
    {
     "name": "stdout",
     "output_type": "stream",
     "text": [
      "10.0\n"
     ]
    }
   ],
   "source": [
    "from math import sqrt\n",
    "print(sqrt(100))"
   ]
  }
 ],
 "metadata": {
  "kernelspec": {
   "display_name": "Python 3.10.4 64-bit",
   "language": "python",
   "name": "python3"
  },
  "language_info": {
   "codemirror_mode": {
    "name": "ipython",
    "version": 3
   },
   "file_extension": ".py",
   "mimetype": "text/x-python",
   "name": "python",
   "nbconvert_exporter": "python",
   "pygments_lexer": "ipython3",
   "version": "3.10.4"
  },
  "vscode": {
   "interpreter": {
    "hash": "864176c83e95cd2754ab8d2f61db14100bfb00266ada6c47987aa215c81b9e75"
   }
  }
 },
 "nbformat": 4,
 "nbformat_minor": 5
}
