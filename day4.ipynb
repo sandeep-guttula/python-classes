{
 "cells": [
  {
   "cell_type": "markdown",
   "id": "84e62a0c",
   "metadata": {},
   "source": [
    "### Russian peasent"
   ]
  },
  {
   "cell_type": "code",
   "execution_count": 1,
   "id": "843c4fe2",
   "metadata": {},
   "outputs": [
    {
     "name": "stdout",
     "output_type": "stream",
     "text": [
      "33 66\n",
      "2178 2178\n"
     ]
    }
   ],
   "source": [
    "# using for loop\n",
    "def russian_peasent(num1, num2):\n",
    "    total = 0\n",
    "    while(num1 > 0):\n",
    "        if(num1%2 !=0):\n",
    "            total = total + num2\n",
    "        num1 = num1//2\n",
    "        num2 = num2*2\n",
    "    return total\n",
    "\n",
    "num1,num2 = map(int,input().split())\n",
    "total = russian_peasent(num1,num2)\n",
    "print(total,(num1*num2))\n"
   ]
  },
  {
   "cell_type": "markdown",
   "id": "206a1ef8",
   "metadata": {},
   "source": [
    "### Russian peasent using resursion"
   ]
  },
  {
   "cell_type": "code",
   "execution_count": 2,
   "id": "dbb3563e",
   "metadata": {},
   "outputs": [
    {
     "name": "stdout",
     "output_type": "stream",
     "text": [
      "33 66\n",
      "2178 2178\n"
     ]
    }
   ],
   "source": [
    "# using recursion\n",
    "def russian_peasent(num1, num2):\n",
    "    if(num1 > 0):\n",
    "        if(num1%2 == 0):\n",
    "            return russian_peasent(num1//2, num2*2)\n",
    "        else :\n",
    "            return num2 + russian_peasent(num1//2,num2*2)\n",
    "    else :\n",
    "        return 0\n",
    "\n",
    "num1,num2 = map(int,input().split())\n",
    "\n",
    "print(russian_peasent(num1,num2),(num1*num2))"
   ]
  },
  {
   "cell_type": "markdown",
   "id": "ab840982",
   "metadata": {},
   "source": [
    "### Lcm "
   ]
  },
  {
   "cell_type": "code",
   "execution_count": null,
   "id": "95eae41b",
   "metadata": {},
   "outputs": [],
   "source": [
    "# lcm usig for Loop\n",
    "def findLcm(num1,num2):\n",
    "    t = 2\n",
    "    total= 1\n",
    "    while num1>=t and num2>=t:\n",
    "        if(num1%t == 0 and num2%t ==0):     \n",
    "            num1 = num1 //t\n",
    "            num2 = num2//t\n",
    "            total = total * t\n",
    "        else:\n",
    "            t= t+1\n",
    "    return total * num1*num2\n",
    "\n",
    "\n",
    "num1,num2 = map(int,input().split())\n",
    "print(findLcm(num1,num2))"
   ]
  }
 ],
 "metadata": {
  "kernelspec": {
   "display_name": "Python 3 (ipykernel)",
   "language": "python",
   "name": "python3"
  },
  "language_info": {
   "codemirror_mode": {
    "name": "ipython",
    "version": 3
   },
   "file_extension": ".py",
   "mimetype": "text/x-python",
   "name": "python",
   "nbconvert_exporter": "python",
   "pygments_lexer": "ipython3",
   "version": "3.9.12"
  }
 },
 "nbformat": 4,
 "nbformat_minor": 5
}
