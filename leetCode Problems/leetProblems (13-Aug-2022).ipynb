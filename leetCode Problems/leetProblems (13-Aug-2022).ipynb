{
 "cells": [
  {
   "cell_type": "markdown",
   "id": "8f7ab2c5",
   "metadata": {},
   "source": [
    "### https://leetcode.com/problems/merge-similar-items/"
   ]
  },
  {
   "cell_type": "code",
   "execution_count": null,
   "id": "66eb14e7",
   "metadata": {},
   "outputs": [],
   "source": [
    "class Solution:\n",
    "    def mergeSimilarItems(self, items1: List[List[int]], items2: List[List[int]]) -> List[List[int]]:\n",
    "        dic ={}\n",
    "        res = []\n",
    "        for i in items1:\n",
    "            if i[0] not in dic:\n",
    "                dic[i[0]] = i[1]\n",
    "            else:\n",
    "                dic[i[0]] += i[1]\n",
    "        for i in items2:\n",
    "            if i[0] not in dic:\n",
    "                dic[i[0]] = i[1]\n",
    "            else:\n",
    "                dic[i[0]] += i[1]\n",
    "\n",
    "        for i in dic:\n",
    "            res.append([i,dic[i]])\n",
    "        res.sort(key = lambda j:j[0])\n",
    "        return res"
   ]
  },
  {
   "cell_type": "markdown",
   "id": "914c87b4",
   "metadata": {},
   "source": [
    "### https://leetcode.com/problems/decode-the-message/"
   ]
  },
  {
   "cell_type": "code",
   "execution_count": null,
   "id": "7eab56d7",
   "metadata": {},
   "outputs": [],
   "source": [
    "class Solution:\n",
    "    def decodeMessage(self, key: str, message: str) -> str:\n",
    "        dic={}\n",
    "        c=0\n",
    "        result = \"\"\n",
    "        chars=['a', 'b', 'c', 'd', 'e', 'f', 'g', 'h', 'i', 'j', 'k', 'l', 'm', 'n', 'o', 'p', 'q', 'r', 's', 't', 'u', 'v', 'w', 'x', 'y', 'z']\n",
    "        for i in key:\n",
    "            if i not in dic and i !=\" \":\n",
    "                dic[i] = chars[c]\n",
    "                c += 1\n",
    "        for i in message:\n",
    "            if(i in dic):\n",
    "                result += dic[i]\n",
    "            else:\n",
    "                result += \" \"\n",
    "        return result"
   ]
  },
  {
   "cell_type": "markdown",
   "id": "3844f4a8",
   "metadata": {},
   "source": [
    "### https://leetcode.com/problems/rings-and-rods/"
   ]
  },
  {
   "cell_type": "code",
   "execution_count": null,
   "id": "a50d5431",
   "metadata": {},
   "outputs": [],
   "source": [
    "class Solution:\n",
    "    def countPoints(self, s: str) -> int:\n",
    "        dic = {}\n",
    "        count = 0\n",
    "        for i in range(1, len(s),2):\n",
    "            if s[i] not in dic:\n",
    "                dic[s[i]] = s[i-1]\n",
    "            else: \n",
    "                dic[s[i]] += s[i-1]\n",
    "\n",
    "        for i in dic:\n",
    "            if(len(set(dic[i])) == 3):\n",
    "                count += 1\n",
    "        return count"
   ]
  },
  {
   "cell_type": "markdown",
   "id": "032aa553",
   "metadata": {},
   "source": [
    "### https://leetcode.com/problems/check-if-the-sentence-is-pangram/"
   ]
  },
  {
   "cell_type": "code",
   "execution_count": null,
   "id": "7f973a56",
   "metadata": {},
   "outputs": [],
   "source": [
    "class Solution:\n",
    "    def checkIfPangram(self, sentence: str) -> bool:\n",
    "        if(len(set(sentence))==26):\n",
    "            return True\n",
    "        else:\n",
    "            return False"
   ]
  },
  {
   "cell_type": "markdown",
   "id": "030df8e0",
   "metadata": {},
   "source": [
    "### https://leetcode.com/problems/n-repeated-element-in-size-2n-array"
   ]
  },
  {
   "cell_type": "code",
   "execution_count": null,
   "id": "1a5464a0",
   "metadata": {},
   "outputs": [],
   "source": [
    "class Solution(object):\n",
    "    def repeatedNTimes(self, nums):\n",
    "        s = set()\n",
    "        for i in nums:\n",
    "            if i in s:\n",
    "                return i\n",
    "            s.add(i)\n",
    "        "
   ]
  },
  {
   "cell_type": "markdown",
   "id": "a9efdc2f",
   "metadata": {},
   "source": [
    "### https://leetcode.com/problems/sum-of-unique-elements"
   ]
  },
  {
   "cell_type": "code",
   "execution_count": null,
   "id": "de2291fa",
   "metadata": {},
   "outputs": [],
   "source": [
    "class Solution:\n",
    "    def sumOfUnique(self, nums: List[int]) -> int:\n",
    "        dic  = {}\n",
    "        key_list = []\n",
    "        for i in nums:\n",
    "            if i not in dic:\n",
    "                dic[i] = 1\n",
    "            else:\n",
    "                dic[i] += 1\n",
    "\n",
    "        for i in dic:\n",
    "            if dic[i] == 1:\n",
    "                key_list.append(i)\n",
    "\n",
    "        return sum(key_list)"
   ]
  }
 ],
 "metadata": {
  "kernelspec": {
   "display_name": "Python 3 (ipykernel)",
   "language": "python",
   "name": "python3"
  },
  "language_info": {
   "codemirror_mode": {
    "name": "ipython",
    "version": 3
   },
   "file_extension": ".py",
   "mimetype": "text/x-python",
   "name": "python",
   "nbconvert_exporter": "python",
   "pygments_lexer": "ipython3",
   "version": "3.9.12"
  }
 },
 "nbformat": 4,
 "nbformat_minor": 5
}
