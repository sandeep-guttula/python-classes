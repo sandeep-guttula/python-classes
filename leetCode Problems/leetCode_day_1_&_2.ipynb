{
 "cells": [
  {
   "cell_type": "markdown",
   "id": "53e4a05d",
   "metadata": {},
   "source": [
    "### https://leetcode.com/problems/happy-number/"
   ]
  },
  {
   "cell_type": "code",
   "execution_count": null,
   "id": "4bce9df0",
   "metadata": {},
   "outputs": [],
   "source": [
    "class Solution:\n",
    "    def isHappy(self, n: int) -> bool:\n",
    "        tot=0\n",
    "        while n>0:\n",
    "            tot+=(n%10)*(n%10)\n",
    "            n=n//10\n",
    "        if tot==1 or tot==7:\n",
    "            return 1\n",
    "        elif tot==4:\n",
    "            return 0\n",
    "        else:\n",
    "            return self.isHappy(tot)"
   ]
  },
  {
   "cell_type": "markdown",
   "id": "a12c33c1",
   "metadata": {},
   "source": [
    "### https://leetcode.com/problems/power-of-two/"
   ]
  },
  {
   "cell_type": "code",
   "execution_count": null,
   "id": "5b5bc3d5",
   "metadata": {},
   "outputs": [],
   "source": [
    "class Solution:\n",
    "    def isPowerOfTwo(self, n: int) -> bool:\n",
    "        if(n == 0):\n",
    "            return False\n",
    "        while n%2 == 0:\n",
    "            n = n/2\n",
    "        if(n == 1):\n",
    "            return True\n",
    "        else :\n",
    "            return False"
   ]
  },
  {
   "cell_type": "markdown",
   "id": "f570606c",
   "metadata": {},
   "source": [
    "### https://leetcode.com/problems/ugly-number/"
   ]
  },
  {
   "cell_type": "code",
   "execution_count": null,
   "id": "28747b10",
   "metadata": {},
   "outputs": [],
   "source": [
    "class Solution:\n",
    "    def isUgly(self, num: int) -> bool:\n",
    "        while num >= 1:\n",
    "            if(num%2==0):\n",
    "                num=num//2\n",
    "            elif(num%3==0):\n",
    "                num=num//3\n",
    "            elif(num%5==0):\n",
    "                num=num//5\n",
    "            else:\n",
    "                break\n",
    "        if num == 1:\n",
    "            return True\n",
    "        else:\n",
    "            return False"
   ]
  },
  {
   "cell_type": "markdown",
   "id": "c3186ff9",
   "metadata": {},
   "source": [
    "### https://leetcode.com/problems/count-operations-to-obtain-zero/"
   ]
  },
  {
   "cell_type": "code",
   "execution_count": null,
   "id": "e68fae71",
   "metadata": {},
   "outputs": [],
   "source": [
    "class Solution:\n",
    "    def countOperations(self, num1: int, num2: int) -> int:\n",
    "        count  = 0\n",
    "        while True:\n",
    "            if(num1 == 0 or num2 == 0 ):\n",
    "                return count\n",
    "            if(num1> num2):\n",
    "                num1 -= num2\n",
    "            else :\n",
    "                num2 -= num1\n",
    "            count += 1    "
   ]
  },
  {
   "cell_type": "markdown",
   "id": "03be9ea1",
   "metadata": {},
   "source": [
    "### https://leetcode.com/problems/count-integers-with-even-digit-sum/"
   ]
  },
  {
   "cell_type": "code",
   "execution_count": null,
   "id": "1473eb54",
   "metadata": {},
   "outputs": [],
   "source": [
    "class Solution:\n",
    "    def countEven(self, num: int) -> int:\n",
    "        count=0\n",
    "        for i in range(1,num+1):\n",
    "            res=0\n",
    "            while i>0:\n",
    "                rem=i%10\n",
    "                res=res+rem\n",
    "                i=i//10\n",
    "            if res%2==0:\n",
    "                count=count+1\n",
    "        return count"
   ]
  },
  {
   "cell_type": "markdown",
   "id": "a57af123",
   "metadata": {},
   "source": [
    "### https://leetcode.com/problems/valid-perfect-square/description/"
   ]
  },
  {
   "cell_type": "code",
   "execution_count": null,
   "id": "13bde7f5",
   "metadata": {},
   "outputs": [],
   "source": [
    "class Solution:\n",
    "    def isPerfectSquare(self, num: int) -> bool:\n",
    "        if int(num**0.5) ** 2 == num:\n",
    "            return num\n",
    "        else:\n",
    "            return False"
   ]
  },
  {
   "cell_type": "markdown",
   "id": "74cf0e84",
   "metadata": {},
   "source": [
    "### https://leetcode.com/problems/perfect-number/"
   ]
  },
  {
   "cell_type": "code",
   "execution_count": null,
   "id": "37b1f1cb",
   "metadata": {},
   "outputs": [],
   "source": [
    "class Solution:\n",
    "    def checkPerfectNumber(self, num: int) -> bool:\n",
    "        total = 1\n",
    "        if num == 1:\n",
    "            return False\n",
    "        res = int(num ** 0.5)\n",
    "        for i in range(2,res+1):\n",
    "            if(num%i==0):\n",
    "                total = total + i\n",
    "                total = total + (num//i)\n",
    "        print(total)\n",
    "        return num == total"
   ]
  },
  {
   "cell_type": "markdown",
   "id": "fbaa6066",
   "metadata": {},
   "source": [
    "### https://leetcode.com/problems/divisor-game/description/"
   ]
  },
  {
   "cell_type": "code",
   "execution_count": null,
   "id": "15a1bbca",
   "metadata": {},
   "outputs": [],
   "source": [
    "class Solution:\n",
    "    def divisorGame(self, n: int) -> bool:\n",
    "        if n%2 > 0:\n",
    "            return False\n",
    "        return True\n",
    "        "
   ]
  },
  {
   "cell_type": "markdown",
   "id": "00ffb8d0",
   "metadata": {},
   "source": [
    "### https://leetcode.com/problems/water-bottles/"
   ]
  },
  {
   "cell_type": "code",
   "execution_count": 1,
   "id": "3dabdd14",
   "metadata": {},
   "outputs": [],
   "source": [
    "class Solution:\n",
    "    def numWaterBottles(self, numBottles: int, numExchange: int) -> int:\n",
    "        emptyBottles = 0\n",
    "        count = 0\n",
    "        while numBottles > 0:\n",
    "            count += numBottles\n",
    "            emptyBottles += numBottles\n",
    "            numBottles = emptyBottles//numExchange\n",
    "            emptyBottles = emptyBottles%numExchange\n",
    "        return count\n",
    "        "
   ]
  }
 ],
 "metadata": {
  "kernelspec": {
   "display_name": "Python 3 (ipykernel)",
   "language": "python",
   "name": "python3"
  },
  "language_info": {
   "codemirror_mode": {
    "name": "ipython",
    "version": 3
   },
   "file_extension": ".py",
   "mimetype": "text/x-python",
   "name": "python",
   "nbconvert_exporter": "python",
   "pygments_lexer": "ipython3",
   "version": "3.9.12"
  }
 },
 "nbformat": 4,
 "nbformat_minor": 5
}
