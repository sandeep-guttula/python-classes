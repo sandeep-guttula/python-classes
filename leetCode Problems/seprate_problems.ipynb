{
 "cells": [
  {
   "cell_type": "markdown",
   "id": "7ed0e4b0",
   "metadata": {},
   "source": [
    "### https://leetcode.com/problems/reverse-string/"
   ]
  },
  {
   "cell_type": "code",
   "execution_count": null,
   "id": "468062c7",
   "metadata": {},
   "outputs": [],
   "source": [
    "class Solution:\n",
    "    def reverseString(self, s: List[str]) -> None:\n",
    "        \"\"\"\n",
    "        Do not return anything, modify s in-place instead.\n",
    "        \"\"\"\n",
    "        s.reverse()"
   ]
  },
  {
   "cell_type": "markdown",
   "id": "df925bbb",
   "metadata": {},
   "source": [
    "### https://leetcode.com/problems/fibonacci-number/"
   ]
  },
  {
   "cell_type": "code",
   "execution_count": null,
   "id": "309ad0cc",
   "metadata": {},
   "outputs": [],
   "source": [
    "class Solution:\n",
    "    def fib(self, n: int) -> int:\n",
    "        a = 0\n",
    "        b = 1\n",
    "        c = 0\n",
    "        if(n == 0):\n",
    "            return a\n",
    "        elif(n == 1):\n",
    "            return b\n",
    "        else :\n",
    "            for i in range(1,n):\n",
    "                c = a+ b\n",
    "                a = b\n",
    "                b = c\n",
    "            return c"
   ]
  },
  {
   "cell_type": "markdown",
   "id": "ececabea",
   "metadata": {},
   "source": [
    "### https://leetcode.com/problems/palindrome-number/"
   ]
  },
  {
   "cell_type": "code",
   "execution_count": null,
   "id": "f90c96b6",
   "metadata": {},
   "outputs": [],
   "source": [
    "class Solution:\n",
    "    def isPalindrome(self, x: int) -> bool:\n",
    "        lst = []\n",
    "        if( x >= 0):\n",
    "            if(x <= 9):\n",
    "                return True\n",
    "            for i in str(x):\n",
    "                lst.append(i)\n",
    "            lst.reverse()\n",
    "            temp = \"\".join(lst)\n",
    "            return x == int(temp)\n",
    "        else:\n",
    "            return False\n",
    "        "
   ]
  }
 ],
 "metadata": {
  "kernelspec": {
   "display_name": "Python 3 (ipykernel)",
   "language": "python",
   "name": "python3"
  },
  "language_info": {
   "codemirror_mode": {
    "name": "ipython",
    "version": 3
   },
   "file_extension": ".py",
   "mimetype": "text/x-python",
   "name": "python",
   "nbconvert_exporter": "python",
   "pygments_lexer": "ipython3",
   "version": "3.9.12"
  }
 },
 "nbformat": 4,
 "nbformat_minor": 5
}
