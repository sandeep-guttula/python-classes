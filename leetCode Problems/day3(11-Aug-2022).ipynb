{
 "cells": [
  {
   "cell_type": "markdown",
   "id": "210ea72e",
   "metadata": {},
   "source": [
    "### https://leetcode.com/problems/number-of-good-pairs/"
   ]
  },
  {
   "cell_type": "code",
   "execution_count": null,
   "id": "327e6b79",
   "metadata": {},
   "outputs": [],
   "source": [
    "class Solution:\n",
    "    def numIdenticalPairs(self, nums: List[int]) -> int:\n",
    "        count = 0\n",
    "        for i in range(len(nums)):\n",
    "            for j in range(1,len(nums)):\n",
    "                if(nums[i] == nums[j] and i<j):\n",
    "                    count += 1\n",
    "        return count"
   ]
  },
  {
   "cell_type": "markdown",
   "id": "a1bf5e81",
   "metadata": {},
   "source": [
    "### https://leetcode.com/problems/jewels-and-stones/"
   ]
  },
  {
   "cell_type": "code",
   "execution_count": null,
   "id": "ab24a8ec",
   "metadata": {},
   "outputs": [],
   "source": [
    "class Solution:\n",
    "    def numJewelsInStones(self, jewels: str, stones: str) -> int:\n",
    "        count = 0\n",
    "        for i in stones:\n",
    "            for j in jewels:\n",
    "                if i == j :\n",
    "                    count += 1\n",
    "        return count"
   ]
  },
  {
   "cell_type": "code",
   "execution_count": null,
   "id": "54675eda",
   "metadata": {},
   "outputs": [],
   "source": []
  }
 ],
 "metadata": {
  "kernelspec": {
   "display_name": "Python 3 (ipykernel)",
   "language": "python",
   "name": "python3"
  },
  "language_info": {
   "codemirror_mode": {
    "name": "ipython",
    "version": 3
   },
   "file_extension": ".py",
   "mimetype": "text/x-python",
   "name": "python",
   "nbconvert_exporter": "python",
   "pygments_lexer": "ipython3",
   "version": "3.9.12"
  }
 },
 "nbformat": 4,
 "nbformat_minor": 5
}
